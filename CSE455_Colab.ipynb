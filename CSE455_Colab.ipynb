{
  "nbformat": 4,
  "nbformat_minor": 0,
  "metadata": {
    "colab": {
      "name": "CSE455",
      "provenance": [],
      "collapsed_sections": []
    },
    "kernelspec": {
      "name": "python3",
      "display_name": "Python 3"
    },
    "language_info": {
      "name": "python"
    },
    "accelerator": "GPU"
  },
  "cells": [
    {
      "cell_type": "markdown",
      "source": [
        "# CSE 455 final project\n",
        "## Member: Bertol Kensese, Jessie Ren\n",
        "## Source: https://www.kaggle.com/code/wasdac/dogs-vs-cats-transfer-learning"
      ],
      "metadata": {
        "id": "cJmKYoYDsO9K"
      }
    },
    {
      "cell_type": "code",
      "execution_count": null,
      "metadata": {
        "id": "sIuCrnA0refU"
      },
      "outputs": [],
      "source": [
        "import numpy as np\n",
        "import pandas as pd\n",
        "from tqdm import tqdm\n",
        "import matplotlib.pyplot as plt\n",
        "import cv2\n",
        "import zipfile\n",
        "import os\n",
        "import shutil"
      ]
    },
    {
      "cell_type": "code",
      "source": [
        "from google.colab import drive\n",
        "drive.mount('/content/drive')"
      ],
      "metadata": {
        "id": "10Nw9O4Okkjs",
        "colab": {
          "base_uri": "https://localhost:8080/"
        },
        "outputId": "1a8fbf0a-04bf-4d6f-8ed3-65c9f8cce260"
      },
      "execution_count": null,
      "outputs": [
        {
          "output_type": "stream",
          "name": "stdout",
          "text": [
            "Mounted at /content/drive\n"
          ]
        }
      ]
    },
    {
      "cell_type": "markdown",
      "source": [
        "## Extract zip file"
      ],
      "metadata": {
        "id": "665B6vgRsNKw"
      }
    },
    {
      "cell_type": "code",
      "source": [
        "z= zipfile.ZipFile('/content/drive/MyDrive/CSE455/train.zip')\n",
        "z.extractall()"
      ],
      "metadata": {
        "id": "1943_sdGj1FG"
      },
      "execution_count": null,
      "outputs": []
    },
    {
      "cell_type": "code",
      "source": [
        "filepath_train = os.listdir(\"./train\")"
      ],
      "metadata": {
        "id": "kBA_oXlel7fU"
      },
      "execution_count": null,
      "outputs": []
    },
    {
      "cell_type": "markdown",
      "source": [
        "## Prepare file path and split training data"
      ],
      "metadata": {
        "id": "KZj5cMdxslNl"
      }
    },
    {
      "cell_type": "code",
      "source": [
        "os.mkdir(\"./data\")\n",
        "os.mkdir(\"./data/train_data\")\n",
        "os.mkdir(\"./data/train_data/cats\")\n",
        "os.mkdir(\"./data/train_data/dogs\")"
      ],
      "metadata": {
        "id": "AXGatqMimL-s"
      },
      "execution_count": null,
      "outputs": []
    },
    {
      "cell_type": "code",
      "source": [
        "os.mkdir(\"./data/val_data\")\n",
        "os.mkdir(\"./data/val_data/cats\")\n",
        "os.mkdir(\"./data/val_data/dogs\")"
      ],
      "metadata": {
        "id": "efxtvJXxmXu6"
      },
      "execution_count": null,
      "outputs": []
    },
    {
      "cell_type": "code",
      "source": [
        "train_data_root = \"./data/train_data\"\n",
        "cats_train_folder = \"./data/train_data/cats\"\n",
        "dogs_train_folder = \"./data/train_data/dogs\"\n",
        "\n",
        "val_data_root = \"./data/val_data\"\n",
        "cats_val_folder = \"./data/val_data/cats\"         \n",
        "dogs_val_folder = \"./data/val_data/dogs\""
      ],
      "metadata": {
        "id": "VVuyKPk_mbhl"
      },
      "execution_count": null,
      "outputs": []
    },
    {
      "cell_type": "code",
      "source": [
        "cat=0\n",
        "dog=0\n",
        "others=0\n",
        "total_len=0\n",
        "for i in tqdm(filepath_train):\n",
        "    src = os.path.join(\"./train\",i)\n",
        "    if i.split(\".\")[0]== \"cat\":\n",
        "        cat+=1\n",
        "        shutil.copy(src,cats_train_folder)\n",
        "    else:\n",
        "        dog+=1\n",
        "        shutil.copy(src,dogs_train_folder)"
      ],
      "metadata": {
        "colab": {
          "base_uri": "https://localhost:8080/"
        },
        "id": "nLclVmAamqlJ",
        "outputId": "39c460f7-8275-4ad9-c6fb-e19222b39d40"
      },
      "execution_count": null,
      "outputs": [
        {
          "output_type": "stream",
          "name": "stderr",
          "text": [
            "100%|██████████| 25000/25000 [00:03<00:00, 7140.56it/s]\n"
          ]
        }
      ]
    },
    {
      "cell_type": "code",
      "source": [
        "cat_train_images = os.listdir(cats_train_folder)\n",
        "dog_train_images = os.listdir(dogs_train_folder)"
      ],
      "metadata": {
        "id": "Rbz_UYj-m_kF"
      },
      "execution_count": null,
      "outputs": []
    },
    {
      "cell_type": "code",
      "source": [
        "val_cat_images = cat_train_images[-int((len(cat_train_images)*0.2)):]\n",
        "src = cats_train_folder\n",
        "destination = cats_val_folder\n",
        "for cat in val_cat_images:\n",
        "    shutil.move(os.path.join(src,cat),destination)"
      ],
      "metadata": {
        "id": "_biwk9lpnNnx"
      },
      "execution_count": null,
      "outputs": []
    },
    {
      "cell_type": "code",
      "source": [
        "val_dog_images = dog_train_images[-int((len(dog_train_images)*0.2)):]\n",
        "src = dogs_train_folder\n",
        "destination = dogs_val_folder\n",
        "for dog in val_dog_images:\n",
        "    shutil.move(os.path.join(src,dog),destination)"
      ],
      "metadata": {
        "id": "nbvNIYO6nVAz"
      },
      "execution_count": null,
      "outputs": []
    },
    {
      "cell_type": "markdown",
      "source": [
        "## Prepare data for ResNet and DenseNet"
      ],
      "metadata": {
        "id": "olym4Evpsy36"
      }
    },
    {
      "cell_type": "code",
      "source": [
        "import torch\n",
        "import torchvision\n",
        "import torch.nn as nn\n",
        "import torch.optim as optim\n",
        "from torchvision import models\n",
        "import torch.nn.functional as F\n",
        "from torch.optim import lr_scheduler\n",
        "from torch.utils.data import DataLoader\n",
        "import torchvision.datasets as datasets\n",
        "import torchvision.transforms as transforms\n",
        "from torchvision.datasets import ImageFolder"
      ],
      "metadata": {
        "id": "93zibg2WnYPX"
      },
      "execution_count": null,
      "outputs": []
    },
    {
      "cell_type": "code",
      "source": [
        "device = torch.device(\"cuda\" if torch.cuda.is_available() else \"cpu\")\n",
        "device"
      ],
      "metadata": {
        "colab": {
          "base_uri": "https://localhost:8080/"
        },
        "id": "Kzlac2q3n22N",
        "outputId": "17085e1c-3a0f-4ece-ab7d-61b49c88e3c2"
      },
      "execution_count": null,
      "outputs": [
        {
          "output_type": "execute_result",
          "data": {
            "text/plain": [
              "device(type='cuda')"
            ]
          },
          "metadata": {},
          "execution_count": 13
        }
      ]
    },
    {
      "cell_type": "code",
      "source": [
        "data_dir = \"./data\"\n",
        "sets = ['train_data', 'val_data']"
      ],
      "metadata": {
        "id": "09yVymWLn6pO"
      },
      "execution_count": null,
      "outputs": []
    },
    {
      "cell_type": "code",
      "source": [
        "torch.manual_seed(1)\n",
        "train_transform = transforms.Compose([transforms.Resize((224,224)),\n",
        "                                     transforms.ToTensor(),\n",
        "                                     transforms.RandomHorizontalFlip(0.5)])\n",
        "\n",
        "val_transform = transforms.Compose([transforms.Resize((224,224)),\n",
        "                                     transforms.ToTensor(),\n",
        "                                    ])\n",
        "\n",
        "data_transforms = {\n",
        "    \"train_data\": train_transform,\n",
        "    \"val_data\": val_transform\n",
        "}"
      ],
      "metadata": {
        "id": "7PC5_xWroA-K"
      },
      "execution_count": 54,
      "outputs": []
    },
    {
      "cell_type": "code",
      "source": [
        "image_datasets = {x: ImageFolder(os.path.join(data_dir,x), transform=data_transforms[x]) for x in [\"train_data\",\"val_data\"]}"
      ],
      "metadata": {
        "id": "q_HT2SB0qhTB"
      },
      "execution_count": 55,
      "outputs": []
    },
    {
      "cell_type": "code",
      "source": [
        "torch.manual_seed(1)\n",
        "dataloaders = {x: DataLoader(image_datasets[x],batch_size=16,shuffle=True) for x in [\"train_data\",\"val_data\"]}"
      ],
      "metadata": {
        "id": "wGAQQmNJqwGS"
      },
      "execution_count": 56,
      "outputs": []
    },
    {
      "cell_type": "markdown",
      "source": [
        "## Training function"
      ],
      "metadata": {
        "id": "J-Q_tPK1tLWO"
      }
    },
    {
      "cell_type": "code",
      "source": [
        "def train_model(model, criterion, optimizer, scheduler, num_epochs=25):\n",
        "    torch.manual_seed(1)\n",
        "    \n",
        "    best_acc = 0.0\n",
        "\n",
        "    train_loss = []\n",
        "    val_loss = []\n",
        "\n",
        "    for epoch in range(num_epochs):\n",
        "        print('Epoch {}/{}'.format(epoch+1, num_epochs))\n",
        "        print('-' * 10)\n",
        "\n",
        "        \n",
        "        for phase in ['train_data', 'val_data']:\n",
        "            if phase == 'train_data':\n",
        "                model.train()\n",
        "            else:\n",
        "                model.eval()\n",
        "\n",
        "            running_loss = 0.0\n",
        "            running_corrects = 0\n",
        "\n",
        "           \n",
        "            for inputs, labels in dataloaders[phase]:\n",
        "                inputs = inputs.to(device)\n",
        "                labels = labels.to(device)\n",
        "\n",
        "                with torch.set_grad_enabled(phase == 'train_data'):\n",
        "                    outputs = model(inputs)\n",
        "                    _, preds = torch.max(outputs, 1)\n",
        "                    loss = criterion(outputs, labels)\n",
        "\n",
        "                    \n",
        "                    if phase == 'train_data':\n",
        "                        optimizer.zero_grad()\n",
        "                        loss.backward()\n",
        "                        optimizer.step()\n",
        "\n",
        "                running_loss += loss.item() * inputs.size(0)\n",
        "                running_corrects += torch.sum(preds == labels.data)\n",
        "\n",
        "            if phase == 'train_data':\n",
        "                scheduler.step()\n",
        "\n",
        "            epoch_loss = running_loss / len(image_datasets[phase])\n",
        "            epoch_acc = running_corrects.double() / len(image_datasets[phase])\n",
        "\n",
        "            print('{} Loss: {:.4f} Acc: {:.4f}'.format(\n",
        "                phase, epoch_loss, epoch_acc))\n",
        "            \n",
        "            if phase == \"train_data\":\n",
        "                train_loss.append(epoch_loss)\n",
        "            else:\n",
        "                val_loss.append(epoch_loss)\n",
        "             \n",
        "            if phase == 'val_data' and epoch_acc > best_acc:\n",
        "                best_acc = epoch_acc\n",
        "\n",
        "    print('Best val Acc: {:4f}'.format(best_acc))\n",
        "\n",
        "    \n",
        "    return model, train_loss, val_loss"
      ],
      "metadata": {
        "id": "iiGQMKbYq3It"
      },
      "execution_count": 79,
      "outputs": []
    },
    {
      "cell_type": "markdown",
      "source": [
        "## First model: transfer learning from resnet 18 using SGD, momentum = 0.25, lr=0.01 with decay gamma = 0.1 and step size 4"
      ],
      "metadata": {
        "id": "gJ1JagiZ9_hE"
      }
    },
    {
      "cell_type": "code",
      "source": [
        "torch.manual_seed(1)\n",
        "model = models.resnet18(pretrained=True)\n",
        "num_ftrs = model.fc.in_features\n",
        "model.fc = nn.Linear(num_ftrs, 2)\n",
        "model = model.to(device)\n",
        "criterion = nn.CrossEntropyLoss()\n",
        "optimizer = optim.SGD(model.parameters(), lr=0.01, momentum = 0.25)\n",
        "step_lr_scheduler = lr_scheduler.StepLR(optimizer, step_size=4, gamma=0.1)"
      ],
      "metadata": {
        "id": "wSFbZLCKge2m"
      },
      "execution_count": 74,
      "outputs": []
    },
    {
      "cell_type": "code",
      "source": [
        "torch.manual_seed(1)\n",
        "model, training_loss, validation_loss = train_model(model, criterion, optimizer, step_lr_scheduler, num_epochs=7)"
      ],
      "metadata": {
        "colab": {
          "base_uri": "https://localhost:8080/"
        },
        "id": "foMMlQWPgbpZ",
        "outputId": "93934853-f45c-4e4e-d8ba-42f78998e69a"
      },
      "execution_count": 75,
      "outputs": [
        {
          "output_type": "stream",
          "name": "stdout",
          "text": [
            "Epoch 1/7\n",
            "----------\n",
            "train_data Loss: 0.0842 Acc: 0.9677\n",
            "val_data Loss: 0.0372 Acc: 0.9888\n",
            "Epoch 2/7\n",
            "----------\n",
            "train_data Loss: 0.0433 Acc: 0.9845\n",
            "val_data Loss: 0.0363 Acc: 0.9876\n",
            "Epoch 3/7\n",
            "----------\n",
            "train_data Loss: 0.0266 Acc: 0.9909\n",
            "val_data Loss: 0.0340 Acc: 0.9894\n",
            "Epoch 4/7\n",
            "----------\n",
            "train_data Loss: 0.0164 Acc: 0.9943\n",
            "val_data Loss: 0.0371 Acc: 0.9888\n",
            "Epoch 5/7\n",
            "----------\n",
            "train_data Loss: 0.0097 Acc: 0.9973\n",
            "val_data Loss: 0.0319 Acc: 0.9916\n",
            "Epoch 6/7\n",
            "----------\n",
            "train_data Loss: 0.0094 Acc: 0.9977\n",
            "val_data Loss: 0.0324 Acc: 0.9910\n",
            "Epoch 7/7\n",
            "----------\n",
            "train_data Loss: 0.0071 Acc: 0.9979\n",
            "val_data Loss: 0.0313 Acc: 0.9920\n",
            "Best val Acc: 0.992000\n"
          ]
        }
      ]
    },
    {
      "cell_type": "code",
      "source": [
        "FILE = \"dogs_vs_cats_resnet18_sgd.pth\"\n",
        "torch.save(model.state_dict(),FILE)"
      ],
      "metadata": {
        "id": "E7mpvtpGr8bh"
      },
      "execution_count": 82,
      "outputs": []
    },
    {
      "cell_type": "code",
      "source": [
        "import matplotlib.pyplot as plt\n",
        "plt.figure()\n",
        "plt.plot(np.arange(1,8), training_loss, label = \"training\")\n",
        "plt.plot(np.arange(1,8), validation_loss, label = \"validation\")\n",
        "plt.title(\"resnet18 SGD best model loss\")\n",
        "plt.legend()"
      ],
      "metadata": {
        "colab": {
          "base_uri": "https://localhost:8080/",
          "height": 298
        },
        "id": "vJzY-jKMsz0G",
        "outputId": "080de6cf-2565-4180-a215-6dd5b8b34c24"
      },
      "execution_count": 87,
      "outputs": [
        {
          "output_type": "execute_result",
          "data": {
            "text/plain": [
              "<matplotlib.legend.Legend at 0x7f3d7f249510>"
            ]
          },
          "metadata": {},
          "execution_count": 87
        },
        {
          "output_type": "display_data",
          "data": {
            "text/plain": [
              "<Figure size 432x288 with 1 Axes>"
            ],
            "image/png": "[encoded data removed]"
          },
          "metadata": {
            "needs_background": "light"
          }
        }
      ]
    },
    {
      "cell_type": "markdown",
      "source": [
        "## Second model: transfer learning from resnet 18 using RMSprop, momentum = 0.1, lr = 0.00001 with decay gamma = 0.1 and step size 5"
      ],
      "metadata": {
        "id": "4OURYgbUrH7x"
      }
    },
    {
      "cell_type": "code",
      "source": [
        "torch.manual_seed(1)\n",
        "model = models.resnet18(pretrained=True)\n",
        "num_ftrs = model.fc.in_features\n",
        "model.fc = nn.Linear(num_ftrs, 2)\n",
        "model = model.to(device)\n",
        "criterion = nn.CrossEntropyLoss()\n",
        "optimizer = optim.RMSprop(model.parameters(), lr = 0.00001, momentum = 0.1)\n",
        "step_lr_scheduler = lr_scheduler.StepLR(optimizer, step_size=5, gamma=0.1)"
      ],
      "metadata": {
        "id": "nA8KC4-x6C34"
      },
      "execution_count": 135,
      "outputs": []
    },
    {
      "cell_type": "code",
      "source": [
        "torch.manual_seed(1)\n",
        "model, training_loss, validation_loss = train_model(model, criterion, optimizer, step_lr_scheduler, num_epochs=9)"
      ],
      "metadata": {
        "colab": {
          "base_uri": "https://localhost:8080/"
        },
        "id": "L-TGyvU26JsX",
        "outputId": "a0138aec-311c-4bae-e45f-a6cdc0855972"
      },
      "execution_count": 136,
      "outputs": [
        {
          "output_type": "stream",
          "name": "stdout",
          "text": [
            "Epoch 1/9\n",
            "----------\n",
            "train_data Loss: 0.0829 Acc: 0.9698\n",
            "val_data Loss: 0.0411 Acc: 0.9872\n",
            "Epoch 2/9\n",
            "----------\n",
            "train_data Loss: 0.0449 Acc: 0.9835\n",
            "val_data Loss: 0.0330 Acc: 0.9898\n",
            "Epoch 3/9\n",
            "----------\n",
            "train_data Loss: 0.0282 Acc: 0.9907\n",
            "val_data Loss: 0.0314 Acc: 0.9900\n",
            "Epoch 4/9\n",
            "----------\n",
            "train_data Loss: 0.0188 Acc: 0.9940\n",
            "val_data Loss: 0.0313 Acc: 0.9902\n",
            "Epoch 5/9\n",
            "----------\n",
            "train_data Loss: 0.0134 Acc: 0.9962\n",
            "val_data Loss: 0.0325 Acc: 0.9912\n",
            "Epoch 6/9\n",
            "----------\n",
            "train_data Loss: 0.0088 Acc: 0.9978\n",
            "val_data Loss: 0.0302 Acc: 0.9916\n",
            "Epoch 7/9\n",
            "----------\n",
            "train_data Loss: 0.0083 Acc: 0.9980\n",
            "val_data Loss: 0.0289 Acc: 0.9916\n",
            "Epoch 8/9\n",
            "----------\n",
            "train_data Loss: 0.0069 Acc: 0.9980\n",
            "val_data Loss: 0.0283 Acc: 0.9918\n",
            "Epoch 9/9\n",
            "----------\n",
            "train_data Loss: 0.0072 Acc: 0.9983\n",
            "val_data Loss: 0.0279 Acc: 0.9926\n",
            "Best val Acc: 0.992600\n"
          ]
        }
      ]
    },
    {
      "cell_type": "code",
      "source": [
        "FILE = \"dogs_vs_cats_resnet18_rmsprop.pth\"\n",
        "torch.save(model.state_dict(),FILE)"
      ],
      "metadata": {
        "id": "6sqRUHNIItOs"
      },
      "execution_count": 137,
      "outputs": []
    },
    {
      "cell_type": "code",
      "source": [
        "plt.figure()\n",
        "plt.plot(np.arange(1,10), training_loss, label = \"training\")\n",
        "plt.plot(np.arange(1,10), validation_loss, label = \"validation\")\n",
        "plt.title(\"resnet18 RMSprop best model loss\")\n",
        "plt.legend()"
      ],
      "metadata": {
        "colab": {
          "base_uri": "https://localhost:8080/",
          "height": 298
        },
        "id": "Ma7C7zltI2YG",
        "outputId": "cc29839d-7399-4a48-af81-2c4dd95b0619"
      },
      "execution_count": 138,
      "outputs": [
        {
          "output_type": "execute_result",
          "data": {
            "text/plain": [
              "<matplotlib.legend.Legend at 0x7f3e31194f90>"
            ]
          },
          "metadata": {},
          "execution_count": 138
        },
        {
          "output_type": "display_data",
          "data": {
            "text/plain": [
              "<Figure size 432x288 with 1 Axes>"
            ],
            "image/png": "[encoded data removed]"
          },
          "metadata": {
            "needs_background": "light"
          }
        }
      ]
    },
    {
      "cell_type": "markdown",
      "source": [
        "## Third model: transfer learning from resnet 18 using Adam, lr = 0.00001"
      ],
      "metadata": {
        "id": "YypA_LpF_x1v"
      }
    },
    {
      "cell_type": "code",
      "source": [
        "torch.manual_seed(1)\n",
        "model = models.resnet18(pretrained=True)\n",
        "num_ftrs = model.fc.in_features\n",
        "model.fc = nn.Linear(num_ftrs, 2)\n",
        "model = model.to(device)\n",
        "criterion = nn.CrossEntropyLoss()\n",
        "optimizer = optim.Adam(model.parameters(), lr = 0.00001)\n",
        "step_lr_scheduler = lr_scheduler.StepLR(optimizer, step_size=10, gamma=0.1)"
      ],
      "metadata": {
        "id": "ttwgYtchK3kp"
      },
      "execution_count": 129,
      "outputs": []
    },
    {
      "cell_type": "code",
      "source": [
        "torch.manual_seed(1)\n",
        "model, training_loss, validation_loss = train_model(model, criterion, optimizer, step_lr_scheduler, num_epochs=3)"
      ],
      "metadata": {
        "colab": {
          "base_uri": "https://localhost:8080/"
        },
        "id": "qI7ayJQqLUSo",
        "outputId": "2f62000c-5b90-4a74-a2f0-85a0397512c8"
      },
      "execution_count": 130,
      "outputs": [
        {
          "output_type": "stream",
          "name": "stdout",
          "text": [
            "Epoch 1/3\n",
            "----------\n",
            "train_data Loss: 0.1056 Acc: 0.9621\n",
            "val_data Loss: 0.0425 Acc: 0.9862\n",
            "Epoch 2/3\n",
            "----------\n",
            "train_data Loss: 0.0490 Acc: 0.9824\n",
            "val_data Loss: 0.0329 Acc: 0.9896\n",
            "Epoch 3/3\n",
            "----------\n",
            "train_data Loss: 0.0314 Acc: 0.9891\n",
            "val_data Loss: 0.0317 Acc: 0.9908\n",
            "Best val Acc: 0.990800\n"
          ]
        }
      ]
    },
    {
      "cell_type": "code",
      "source": [
        "FILE = \"dogs_vs_cats_resnet18_adam.pth\"\n",
        "torch.save(model.state_dict(),FILE)"
      ],
      "metadata": {
        "id": "fntlbuA_najA"
      },
      "execution_count": 131,
      "outputs": []
    },
    {
      "cell_type": "code",
      "source": [
        "plt.figure()\n",
        "plt.plot(np.arange(1,4), training_loss, label = \"training\")\n",
        "plt.plot(np.arange(1,4), validation_loss, label = \"validation\")\n",
        "plt.title(\"resnet18 Adam best model loss\")\n",
        "plt.legend()"
      ],
      "metadata": {
        "colab": {
          "base_uri": "https://localhost:8080/",
          "height": 298
        },
        "id": "iwkhzXN0nifd",
        "outputId": "fbd9f11a-0122-477f-c2fe-964fd6f8e3dd"
      },
      "execution_count": 132,
      "outputs": [
        {
          "output_type": "execute_result",
          "data": {
            "text/plain": [
              "<matplotlib.legend.Legend at 0x7f3d7f2a9a50>"
            ]
          },
          "metadata": {},
          "execution_count": 132
        },
        {
          "output_type": "display_data",
          "data": {
            "text/plain": [
              "<Figure size 432x288 with 1 Axes>"
            ],
            "image/png": "[encoded data removed]"
          },
          "metadata": {
            "needs_background": "light"
          }
        }
      ]
    },
    {
      "cell_type": "markdown",
      "source": [
        "## Fourth model: transfer learning from densenet 121 using SGD, lr=0.01 with decay gamma = 0.1 and step size 3"
      ],
      "metadata": {
        "id": "0MgrZ697QC5e"
      }
    },
    {
      "cell_type": "code",
      "source": [
        "torch.manual_seed(1)\n",
        "model = models.densenet121(pretrained=True)\n",
        "num_ftrs = model.classifier.in_features\n",
        "model.classifier = nn.Linear(num_ftrs, 2)\n",
        "model = model.to(device)\n",
        "criterion = nn.CrossEntropyLoss()\n",
        "optimizer = optim.SGD(model.parameters(), lr=0.01)\n",
        "step_lr_scheduler = lr_scheduler.StepLR(optimizer, step_size=3, gamma=0.1)"
      ],
      "metadata": {
        "id": "4jl5Vg7wQDte"
      },
      "execution_count": 158,
      "outputs": []
    },
    {
      "cell_type": "code",
      "source": [
        "torch.manual_seed(1)\n",
        "model, training_loss, validation_loss = train_model(model, criterion, optimizer, step_lr_scheduler, num_epochs=6)"
      ],
      "metadata": {
        "colab": {
          "base_uri": "https://localhost:8080/"
        },
        "id": "wonCajhvQEJ3",
        "outputId": "5ba2b097-fbe7-4dd4-a702-8d06c5d5449e"
      },
      "execution_count": 159,
      "outputs": [
        {
          "output_type": "stream",
          "name": "stdout",
          "text": [
            "Epoch 1/6\n",
            "----------\n",
            "train_data Loss: 0.0575 Acc: 0.9776\n",
            "val_data Loss: 0.0483 Acc: 0.9844\n",
            "Epoch 2/6\n",
            "----------\n",
            "train_data Loss: 0.0250 Acc: 0.9909\n",
            "val_data Loss: 0.0246 Acc: 0.9916\n",
            "Epoch 3/6\n",
            "----------\n",
            "train_data Loss: 0.0144 Acc: 0.9956\n",
            "val_data Loss: 0.0260 Acc: 0.9904\n",
            "Epoch 4/6\n",
            "----------\n",
            "train_data Loss: 0.0070 Acc: 0.9982\n",
            "val_data Loss: 0.0208 Acc: 0.9930\n",
            "Epoch 5/6\n",
            "----------\n",
            "train_data Loss: 0.0062 Acc: 0.9989\n",
            "val_data Loss: 0.0198 Acc: 0.9936\n",
            "Epoch 6/6\n",
            "----------\n",
            "train_data Loss: 0.0050 Acc: 0.9990\n",
            "val_data Loss: 0.0200 Acc: 0.9938\n",
            "Best val Acc: 0.993800\n"
          ]
        }
      ]
    },
    {
      "cell_type": "code",
      "source": [
        "FILE = \"dogs_vs_cats_densenet121_sgd.pth\"\n",
        "torch.save(model.state_dict(),FILE)"
      ],
      "metadata": {
        "id": "Vud_TWWKvibg"
      },
      "execution_count": 160,
      "outputs": []
    },
    {
      "cell_type": "code",
      "source": [
        "plt.figure()\n",
        "plt.plot(np.arange(1,7), training_loss, label = \"training\")\n",
        "plt.plot(np.arange(1,7), validation_loss, label = \"validation\")\n",
        "plt.title(\"densenet121 SGD best model loss\")\n",
        "plt.legend()"
      ],
      "metadata": {
        "colab": {
          "base_uri": "https://localhost:8080/",
          "height": 298
        },
        "id": "lJop8Vwovn7K",
        "outputId": "d6d2a848-ed9b-4398-f1ee-1b1d9cf6b435"
      },
      "execution_count": 161,
      "outputs": [
        {
          "output_type": "execute_result",
          "data": {
            "text/plain": [
              "<matplotlib.legend.Legend at 0x7f3e30891c90>"
            ]
          },
          "metadata": {},
          "execution_count": 161
        },
        {
          "output_type": "display_data",
          "data": {
            "text/plain": [
              "<Figure size 432x288 with 1 Axes>"
            ],
            "image/png": "[encoded data removed]"
          },
          "metadata": {
            "needs_background": "light"
          }
        }
      ]
    },
    {
      "cell_type": "markdown",
      "source": [
        "## Fifth model: transfer learning from densenet 121 using RMSprop, lr = 0.0001 with decay gamma = 0.1 and step size 3"
      ],
      "metadata": {
        "id": "qCXaiMad6Cf-"
      }
    },
    {
      "cell_type": "code",
      "source": [
        "torch.manual_seed(1)\n",
        "model = models.densenet121(pretrained=True)\n",
        "num_ftrs = model.classifier.in_features\n",
        "model.classifier = nn.Linear(num_ftrs, 2)\n",
        "model = model.to(device)\n",
        "criterion = nn.CrossEntropyLoss()\n",
        "optimizer = optim.RMSprop(model.parameters(), lr = 0.0001)\n",
        "step_lr_scheduler = lr_scheduler.StepLR(optimizer, step_size=3, gamma=0.1)"
      ],
      "metadata": {
        "id": "8zjVH6-Bw030"
      },
      "execution_count": 147,
      "outputs": []
    },
    {
      "cell_type": "code",
      "source": [
        "torch.manual_seed(1)\n",
        "model, training_loss, validation_loss = train_model(model, criterion, optimizer, step_lr_scheduler, num_epochs=6)"
      ],
      "metadata": {
        "colab": {
          "base_uri": "https://localhost:8080/"
        },
        "id": "l-EGI4uYyL9V",
        "outputId": "4c6dd3c6-2431-4423-d0ac-cbb3cd818771"
      },
      "execution_count": 148,
      "outputs": [
        {
          "output_type": "stream",
          "name": "stdout",
          "text": [
            "Epoch 1/6\n",
            "----------\n",
            "train_data Loss: 0.0592 Acc: 0.9776\n",
            "val_data Loss: 0.0433 Acc: 0.9838\n",
            "Epoch 2/6\n",
            "----------\n",
            "train_data Loss: 0.0346 Acc: 0.9877\n",
            "val_data Loss: 0.0390 Acc: 0.9860\n",
            "Epoch 3/6\n",
            "----------\n",
            "train_data Loss: 0.0255 Acc: 0.9905\n",
            "val_data Loss: 0.0348 Acc: 0.9890\n",
            "Epoch 4/6\n",
            "----------\n",
            "train_data Loss: 0.0077 Acc: 0.9974\n",
            "val_data Loss: 0.0280 Acc: 0.9922\n",
            "Epoch 5/6\n",
            "----------\n",
            "train_data Loss: 0.0032 Acc: 0.9990\n",
            "val_data Loss: 0.0345 Acc: 0.9914\n",
            "Epoch 6/6\n",
            "----------\n",
            "train_data Loss: 0.0023 Acc: 0.9994\n",
            "val_data Loss: 0.0331 Acc: 0.9924\n",
            "Best val Acc: 0.992400\n"
          ]
        }
      ]
    },
    {
      "cell_type": "code",
      "source": [
        "FILE = \"dogs_vs_cats_densenet121_rmsprop.pth\"\n",
        "torch.save(model.state_dict(),FILE)"
      ],
      "metadata": {
        "id": "CRlyicf4PpSE"
      },
      "execution_count": 149,
      "outputs": []
    },
    {
      "cell_type": "code",
      "source": [
        "plt.figure()\n",
        "plt.plot(np.arange(1,7), training_loss, label = \"training\")\n",
        "plt.plot(np.arange(1,7), validation_loss, label = \"validation\")\n",
        "plt.title(\"densenet121 RMSprop best model loss\")\n",
        "plt.legend()"
      ],
      "metadata": {
        "colab": {
          "base_uri": "https://localhost:8080/",
          "height": 298
        },
        "id": "IS-WSC9kP1cV",
        "outputId": "9a9f32cc-07db-4de5-daf4-0e9ff8f6eb3c"
      },
      "execution_count": 151,
      "outputs": [
        {
          "output_type": "execute_result",
          "data": {
            "text/plain": [
              "<matplotlib.legend.Legend at 0x7f3d7ff032d0>"
            ]
          },
          "metadata": {},
          "execution_count": 151
        },
        {
          "output_type": "display_data",
          "data": {
            "text/plain": [
              "<Figure size 432x288 with 1 Axes>"
            ],
            "image/png": "[encoded data removed]"
          },
          "metadata": {
            "needs_background": "light"
          }
        }
      ]
    },
    {
      "cell_type": "markdown",
      "source": [
        "## Sixth model: transfer learning from densenet 121 using Adam, lr = 0.00001 with decay gamma = 0.1 and step size 3"
      ],
      "metadata": {
        "id": "uLqmV0PX_3NX"
      }
    },
    {
      "cell_type": "code",
      "source": [
        "torch.manual_seed(1)\n",
        "model = models.densenet121(pretrained=True)\n",
        "num_ftrs = model.classifier.in_features\n",
        "model.classifier = nn.Linear(num_ftrs, 2)\n",
        "model = model.to(device)\n",
        "criterion = nn.CrossEntropyLoss()\n",
        "optimizer = optim.Adam(model.parameters(), lr = 0.00001)\n",
        "step_lr_scheduler = lr_scheduler.StepLR(optimizer, step_size=3, gamma=0.1)"
      ],
      "metadata": {
        "id": "W9cMEEY3zexU"
      },
      "execution_count": 172,
      "outputs": []
    },
    {
      "cell_type": "code",
      "source": [
        "torch.manual_seed(1)\n",
        "model, training_loss, validation_loss = train_model(model, criterion, optimizer, step_lr_scheduler, num_epochs=6)"
      ],
      "metadata": {
        "colab": {
          "base_uri": "https://localhost:8080/"
        },
        "id": "7qTZZsvqzfCP",
        "outputId": "664fe6bf-6ef1-46f6-89c1-b4f105479cb6"
      },
      "execution_count": 173,
      "outputs": [
        {
          "output_type": "stream",
          "name": "stdout",
          "text": [
            "Epoch 1/6\n",
            "----------\n",
            "train_data Loss: 0.1075 Acc: 0.9680\n",
            "val_data Loss: 0.0319 Acc: 0.9902\n",
            "Epoch 2/6\n",
            "----------\n",
            "train_data Loss: 0.0331 Acc: 0.9904\n",
            "val_data Loss: 0.0237 Acc: 0.9928\n",
            "Epoch 3/6\n",
            "----------\n",
            "train_data Loss: 0.0191 Acc: 0.9943\n",
            "val_data Loss: 0.0234 Acc: 0.9924\n",
            "Epoch 4/6\n",
            "----------\n",
            "train_data Loss: 0.0110 Acc: 0.9977\n",
            "val_data Loss: 0.0224 Acc: 0.9926\n",
            "Epoch 5/6\n",
            "----------\n",
            "train_data Loss: 0.0108 Acc: 0.9979\n",
            "val_data Loss: 0.0215 Acc: 0.9932\n",
            "Epoch 6/6\n",
            "----------\n",
            "train_data Loss: 0.0093 Acc: 0.9978\n",
            "val_data Loss: 0.0211 Acc: 0.9936\n",
            "Best val Acc: 0.993600\n"
          ]
        }
      ]
    },
    {
      "cell_type": "code",
      "source": [
        "FILE = \"dogs_vs_cats_densenet121_adam.pth\"\n",
        "torch.save(model.state_dict(),FILE)"
      ],
      "metadata": {
        "id": "oApl8ruSKuD4"
      },
      "execution_count": 174,
      "outputs": []
    },
    {
      "cell_type": "code",
      "source": [
        "plt.figure()\n",
        "plt.plot(np.arange(1,7), training_loss, label = \"training\")\n",
        "plt.plot(np.arange(1,7), validation_loss, label = \"validation\")\n",
        "plt.title(\"densenet121 Adam best model loss\")\n",
        "plt.legend()"
      ],
      "metadata": {
        "colab": {
          "base_uri": "https://localhost:8080/",
          "height": 298
        },
        "id": "-JHvWNT8KyyT",
        "outputId": "9cba662a-8fe2-46b1-91a7-882d9dcb7608"
      },
      "execution_count": 175,
      "outputs": [
        {
          "output_type": "execute_result",
          "data": {
            "text/plain": [
              "<matplotlib.legend.Legend at 0x7f3d7f2eac10>"
            ]
          },
          "metadata": {},
          "execution_count": 175
        },
        {
          "output_type": "display_data",
          "data": {
            "text/plain": [
              "<Figure size 432x288 with 1 Axes>"
            ],
            "image/png": "[encoded data removed]"
          },
          "metadata": {
            "needs_background": "light"
          }
        }
      ]
    },
    {
      "cell_type": "markdown",
      "source": [
        "## Prepare data for Inception"
      ],
      "metadata": {
        "id": "tLv5F8fcS4t1"
      }
    },
    {
      "cell_type": "code",
      "source": [
        "torch.manual_seed(1)\n",
        "train_transform = transforms.Compose([transforms.Resize((299,299)),\n",
        "                                     transforms.ToTensor(),\n",
        "                                     transforms.RandomHorizontalFlip(0.5)])\n",
        "\n",
        "val_transform = transforms.Compose([transforms.Resize((299,299)),\n",
        "                                     transforms.ToTensor(),\n",
        "                                    ])\n",
        "\n",
        "data_transforms = {\n",
        "    \"train_data\": train_transform,\n",
        "    \"val_data\": val_transform\n",
        "}"
      ],
      "metadata": {
        "id": "yLTUT2PnS4AQ"
      },
      "execution_count": 177,
      "outputs": []
    },
    {
      "cell_type": "code",
      "source": [
        "image_datasets = {x: ImageFolder(os.path.join(data_dir,x), transform=data_transforms[x]) for x in [\"train_data\",\"val_data\"]}"
      ],
      "metadata": {
        "id": "BV6AoCErTeAc"
      },
      "execution_count": 178,
      "outputs": []
    },
    {
      "cell_type": "code",
      "source": [
        "torch.manual_seed(1)\n",
        "dataloaders = {x: DataLoader(image_datasets[x],batch_size=16,shuffle=True) for x in [\"train_data\",\"val_data\"]}"
      ],
      "metadata": {
        "id": "9J1ulhkMTlCB"
      },
      "execution_count": 179,
      "outputs": []
    },
    {
      "cell_type": "markdown",
      "source": [
        "## Seventh model: transfer learning from inception v3 using SGD, lr=0.01 with decay gamma = 0.1 and step size 3"
      ],
      "metadata": {
        "id": "Z79Y_ge5Tlz-"
      }
    },
    {
      "cell_type": "code",
      "source": [
        "torch.manual_seed(1)\n",
        "model = models.inception_v3(pretrained=True)\n",
        "model.aux_logits = False\n",
        "num_ftrs = model.fc.in_features\n",
        "model.fc = nn.Linear(num_ftrs,2)\n",
        "model = model.to(device)\n",
        "criterion = nn.CrossEntropyLoss()\n",
        "optimizer = optim.SGD(model.parameters(), lr=0.01)\n",
        "step_lr_scheduler = lr_scheduler.StepLR(optimizer, step_size=3, gamma=0.1)"
      ],
      "metadata": {
        "id": "WGk3pDBBTmH-"
      },
      "execution_count": 190,
      "outputs": []
    },
    {
      "cell_type": "code",
      "source": [
        "torch.manual_seed(1)\n",
        "model, training_loss, validation_loss = train_model(model, criterion, optimizer, step_lr_scheduler, num_epochs=5)"
      ],
      "metadata": {
        "colab": {
          "base_uri": "https://localhost:8080/"
        },
        "id": "n7PvhtUxUJsF",
        "outputId": "5967ee73-f549-478f-a484-afc65f308af0"
      },
      "execution_count": 191,
      "outputs": [
        {
          "output_type": "stream",
          "name": "stdout",
          "text": [
            "Epoch 1/5\n",
            "----------\n",
            "train_data Loss: 0.0645 Acc: 0.9770\n",
            "val_data Loss: 0.0276 Acc: 0.9928\n",
            "Epoch 2/5\n",
            "----------\n",
            "train_data Loss: 0.0208 Acc: 0.9925\n",
            "val_data Loss: 0.0234 Acc: 0.9928\n",
            "Epoch 3/5\n",
            "----------\n",
            "train_data Loss: 0.0100 Acc: 0.9969\n",
            "val_data Loss: 0.0272 Acc: 0.9920\n",
            "Epoch 4/5\n",
            "----------\n",
            "train_data Loss: 0.0055 Acc: 0.9989\n",
            "val_data Loss: 0.0198 Acc: 0.9942\n",
            "Epoch 5/5\n",
            "----------\n",
            "train_data Loss: 0.0049 Acc: 0.9988\n",
            "val_data Loss: 0.0191 Acc: 0.9950\n",
            "Best val Acc: 0.995000\n"
          ]
        }
      ]
    },
    {
      "cell_type": "code",
      "source": [
        "FILE = \"dogs_vs_cats_inceptionv3_sgd.pth\"\n",
        "torch.save(model.state_dict(),FILE)"
      ],
      "metadata": {
        "id": "JdeSo5V1161A"
      },
      "execution_count": 192,
      "outputs": []
    },
    {
      "cell_type": "code",
      "source": [
        "plt.figure()\n",
        "plt.plot(np.arange(1,6), training_loss, label = \"training\")\n",
        "plt.plot(np.arange(1,6), validation_loss, label = \"validation\")\n",
        "plt.title(\"inceptionv3 sgd best model loss\")\n",
        "plt.legend()"
      ],
      "metadata": {
        "colab": {
          "base_uri": "https://localhost:8080/",
          "height": 298
        },
        "id": "IEPkZEsK2Aku",
        "outputId": "78fd2e51-c0ce-4823-eaa2-ceb19b277c9e"
      },
      "execution_count": 193,
      "outputs": [
        {
          "output_type": "execute_result",
          "data": {
            "text/plain": [
              "<matplotlib.legend.Legend at 0x7f3e3cf30410>"
            ]
          },
          "metadata": {},
          "execution_count": 193
        },
        {
          "output_type": "display_data",
          "data": {
            "text/plain": [
              "<Figure size 432x288 with 1 Axes>"
            ],
            "image/png": "[encoded data removed]"
          },
          "metadata": {
            "needs_background": "light"
          }
        }
      ]
    },
    {
      "cell_type": "markdown",
      "source": [
        "## Eighth model: transfer learning from inception v3 using RMSprop, lr = 0.0001 with decay gamma = 0.1 and step size 3"
      ],
      "metadata": {
        "id": "Mtehut822HXN"
      }
    },
    {
      "cell_type": "code",
      "source": [
        "torch.manual_seed(1)\n",
        "model = models.inception_v3(pretrained=True)\n",
        "model.aux_logits = False\n",
        "num_ftrs = model.fc.in_features\n",
        "model.fc = nn.Linear(num_ftrs,2)\n",
        "model = model.to(device)\n",
        "criterion = nn.CrossEntropyLoss()\n",
        "optimizer = optim.RMSprop(model.parameters(), lr = 0.0001)\n",
        "step_lr_scheduler = lr_scheduler.StepLR(optimizer, step_size=3, gamma=0.1)"
      ],
      "metadata": {
        "id": "ABza4xwd2Hhu"
      },
      "execution_count": 199,
      "outputs": []
    },
    {
      "cell_type": "code",
      "source": [
        "torch.manual_seed(1)\n",
        "model, training_loss, validation_loss = train_model(model, criterion, optimizer, step_lr_scheduler, num_epochs=7)"
      ],
      "metadata": {
        "colab": {
          "base_uri": "https://localhost:8080/"
        },
        "id": "5it6hPs32Hta",
        "outputId": "2c96c329-209d-4a8d-9411-413c51d10643"
      },
      "execution_count": 200,
      "outputs": [
        {
          "output_type": "stream",
          "name": "stdout",
          "text": [
            "Epoch 1/7\n",
            "----------\n",
            "train_data Loss: 0.0608 Acc: 0.9772\n",
            "val_data Loss: 0.0544 Acc: 0.9820\n",
            "Epoch 2/7\n",
            "----------\n",
            "train_data Loss: 0.0339 Acc: 0.9878\n",
            "val_data Loss: 0.0380 Acc: 0.9898\n",
            "Epoch 3/7\n",
            "----------\n",
            "train_data Loss: 0.0283 Acc: 0.9912\n",
            "val_data Loss: 0.0375 Acc: 0.9882\n",
            "Epoch 4/7\n",
            "----------\n",
            "train_data Loss: 0.0091 Acc: 0.9974\n",
            "val_data Loss: 0.0396 Acc: 0.9910\n",
            "Epoch 5/7\n",
            "----------\n",
            "train_data Loss: 0.0045 Acc: 0.9988\n",
            "val_data Loss: 0.0376 Acc: 0.9930\n",
            "Epoch 6/7\n",
            "----------\n",
            "train_data Loss: 0.0023 Acc: 0.9992\n",
            "val_data Loss: 0.0484 Acc: 0.9920\n",
            "Epoch 7/7\n",
            "----------\n",
            "train_data Loss: 0.0015 Acc: 0.9996\n",
            "val_data Loss: 0.0404 Acc: 0.9932\n",
            "Best val Acc: 0.993200\n"
          ]
        }
      ]
    },
    {
      "cell_type": "code",
      "source": [
        "FILE = \"dogs_vs_cats_inceptionv3_rmsprop.pth\"\n",
        "torch.save(model.state_dict(),FILE)"
      ],
      "metadata": {
        "id": "feN34IDR2H1f"
      },
      "execution_count": 201,
      "outputs": []
    },
    {
      "cell_type": "code",
      "source": [
        "plt.figure()\n",
        "plt.plot(np.arange(1,8), training_loss, label = \"training\")\n",
        "plt.plot(np.arange(1,8), validation_loss, label = \"validation\")\n",
        "plt.title(\"inceptionv3 RMSprop best model loss\")\n",
        "plt.legend()"
      ],
      "metadata": {
        "colab": {
          "base_uri": "https://localhost:8080/",
          "height": 298
        },
        "id": "WP7aNp0b2H84",
        "outputId": "efd6f385-83ba-4b37-a0a1-4ca91ec4a40d"
      },
      "execution_count": 202,
      "outputs": [
        {
          "output_type": "execute_result",
          "data": {
            "text/plain": [
              "<matplotlib.legend.Legend at 0x7f3e30b43450>"
            ]
          },
          "metadata": {},
          "execution_count": 202
        },
        {
          "output_type": "display_data",
          "data": {
            "text/plain": [
              "<Figure size 432x288 with 1 Axes>"
            ],
            "image/png": "[encoded data removed]"
          },
          "metadata": {
            "needs_background": "light"
          }
        }
      ]
    },
    {
      "cell_type": "markdown",
      "source": [
        "## Ninth model: transfer learning from inception v3 using Adam, lr = 0.00001 with decay gamma = 0.1 and step size 3"
      ],
      "metadata": {
        "id": "hDuW5eAg2IOd"
      }
    },
    {
      "cell_type": "code",
      "source": [
        "torch.manual_seed(1)\n",
        "model = models.inception_v3(pretrained=True)\n",
        "model.aux_logits = False\n",
        "num_ftrs = model.fc.in_features\n",
        "model.fc = nn.Linear(num_ftrs,2)\n",
        "model = model.to(device)\n",
        "criterion = nn.CrossEntropyLoss()\n",
        "optimizer = optim.Adam(model.parameters(), lr = 0.00001)\n",
        "step_lr_scheduler = lr_scheduler.StepLR(optimizer, step_size=3, gamma=0.1)"
      ],
      "metadata": {
        "id": "vCGBk9Od2IYq"
      },
      "execution_count": 205,
      "outputs": []
    },
    {
      "cell_type": "code",
      "source": [
        "torch.manual_seed(1)\n",
        "model, training_loss, validation_loss = train_model(model, criterion, optimizer, step_lr_scheduler, num_epochs=4)"
      ],
      "metadata": {
        "colab": {
          "base_uri": "https://localhost:8080/"
        },
        "id": "tcyroadO2IfL",
        "outputId": "eac05949-7a58-4a97-ac4e-c5697e2f9a98"
      },
      "execution_count": 206,
      "outputs": [
        {
          "output_type": "stream",
          "name": "stdout",
          "text": [
            "Epoch 1/4\n",
            "----------\n",
            "train_data Loss: 0.0944 Acc: 0.9697\n",
            "val_data Loss: 0.0269 Acc: 0.9916\n",
            "Epoch 2/4\n",
            "----------\n",
            "train_data Loss: 0.0240 Acc: 0.9925\n",
            "val_data Loss: 0.0227 Acc: 0.9920\n",
            "Epoch 3/4\n",
            "----------\n",
            "train_data Loss: 0.0119 Acc: 0.9964\n",
            "val_data Loss: 0.0254 Acc: 0.9928\n",
            "Epoch 4/4\n",
            "----------\n",
            "train_data Loss: 0.0054 Acc: 0.9990\n",
            "val_data Loss: 0.0234 Acc: 0.9928\n",
            "Best val Acc: 0.992800\n"
          ]
        }
      ]
    },
    {
      "cell_type": "code",
      "source": [
        "FILE = \"dogs_vs_cats_inceptionv3_adam.pth\"\n",
        "torch.save(model.state_dict(),FILE)"
      ],
      "metadata": {
        "id": "sxNvcCXH2Ilg"
      },
      "execution_count": 207,
      "outputs": []
    },
    {
      "cell_type": "code",
      "source": [
        "plt.figure()\n",
        "plt.plot(np.arange(1,5), training_loss, label = \"training\")\n",
        "plt.plot(np.arange(1,5), validation_loss, label = \"validation\")\n",
        "plt.title(\"inceptionv3 Adam best model loss\")\n",
        "plt.legend()"
      ],
      "metadata": {
        "colab": {
          "base_uri": "https://localhost:8080/",
          "height": 298
        },
        "id": "DN8eVtPP2IsK",
        "outputId": "585ecaa2-82e5-4261-d84e-2f39348b9687"
      },
      "execution_count": 208,
      "outputs": [
        {
          "output_type": "execute_result",
          "data": {
            "text/plain": [
              "<matplotlib.legend.Legend at 0x7f3e30b27410>"
            ]
          },
          "metadata": {},
          "execution_count": 208
        },
        {
          "output_type": "display_data",
          "data": {
            "text/plain": [
              "<Figure size 432x288 with 1 Axes>"
            ],
            "image/png": "[encoded data removed]"
          },
          "metadata": {
            "needs_background": "light"
          }
        }
      ]
    }
  ]
}